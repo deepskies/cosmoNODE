{
 "cells": [
  {
   "cell_type": "code",
   "execution_count": 33,
   "metadata": {},
   "outputs": [],
   "source": [
    "import matplotlib.pyplot as plt\n",
    "%matplotlib inline\n",
    "import torch\n",
    "import torch.nn as nn\n",
    "import torch.optim as optim\n",
    "from torch.utils.data import DataLoader, Dataset\n",
    "import numpy as np\n",
    "from torchdiffeq import odeint\n",
    "\n",
    "device = torch.device('cpu')\n"
   ]
  },
  {
   "cell_type": "code",
   "execution_count": 63,
   "metadata": {},
   "outputs": [],
   "source": [
    "data_size = 350\n",
    "batch_time = 10\n",
    "batch_size = 20\n",
    "\n",
    "test_freq = 20\n"
   ]
  },
  {
   "cell_type": "code",
   "execution_count": 35,
   "metadata": {},
   "outputs": [],
   "source": [
    "from cosmoNODE.loaders import Anode as A"
   ]
  },
  {
   "cell_type": "code",
   "execution_count": 36,
   "metadata": {},
   "outputs": [],
   "source": [
    "a = A()\n",
    "dataloader = DataLoader(a)\n",
    "item = a[0]\n",
    "lc = item[0]\n",
    "obj_class = item[1]\n",
    "lc = lc.squeeze()"
   ]
  },
  {
   "cell_type": "code",
   "execution_count": 54,
   "metadata": {},
   "outputs": [],
   "source": [
    "mjds = lc[:, 0]\n",
    "fluxes = lc[:, 1]\n",
    "flux_y0 = fluxes[0].reshape(1, -1) # torch.Size([1, 1])\n",
    "true_f = fluxes.reshape(-1, 1, 1)\n",
    "# zero = torch.cat((fluxes, mjds))\n",
    "# flxs = fluxes.reshape(1, -1)"
   ]
  },
  {
   "cell_type": "code",
   "execution_count": 38,
   "metadata": {},
   "outputs": [],
   "source": [
    "true_y0 = torch.tensor([[2., 0.]]) # torch.Size([1, 2])\n",
    "t = torch.linspace(0., 25., data_size)\n",
    "true_A = torch.tensor([[-0.1, 2.0], [-2.0, -0.1]])"
   ]
  },
  {
   "cell_type": "code",
   "execution_count": 17,
   "metadata": {},
   "outputs": [],
   "source": [
    "class Lambda(nn.Module):\n",
    "    def forward(self, t, y):\n",
    "        return torch.mm(y**3, true_A)"
   ]
  },
  {
   "cell_type": "code",
   "execution_count": 41,
   "metadata": {},
   "outputs": [],
   "source": [
    "true_y = odeint(Lambda(), true_y0, t, method='dopri5') # torch.Size([1000, 1, 2])\n",
    "# print(true_y.shape)\n",
    "# true_y[0:10]"
   ]
  },
  {
   "cell_type": "code",
   "execution_count": 55,
   "metadata": {},
   "outputs": [],
   "source": [
    "def flux_batch():\n",
    "    s = torch.from_numpy(np.random.choice(np.arange(data_size - batch_time, dtype=np.int64), batch_size, replace=False))\n",
    "    batch_y0 = true_f[s]  # (M, D)\n",
    "    batch_t = mjds[:batch_time]  # (T)\n",
    "    batch_y = torch.stack([true_f[s + i] for i in range(batch_time)], dim=0)  # (T, M, D)\n",
    "    return batch_y0, batch_t, batch_y"
   ]
  },
  {
   "cell_type": "code",
   "execution_count": 22,
   "metadata": {},
   "outputs": [],
   "source": [
    "def get_batch():\n",
    "    s = torch.from_numpy(np.random.choice(np.arange(data_size - batch_time, dtype=np.int64), batch_size, replace=False))\n",
    "    batch_y0 = true_y[s]  # (M, D)\n",
    "    batch_t = t[:batch_time]  # (T)\n",
    "    batch_y = torch.stack([true_y[s + i] for i in range(batch_time)], dim=0)  # (T, M, D)\n",
    "    return batch_y0, batch_t, batch_y"
   ]
  },
  {
   "cell_type": "code",
   "execution_count": 56,
   "metadata": {},
   "outputs": [],
   "source": [
    "by0_f, bt_f, by_f = flux_batch()\n",
    "by0, bt, by = get_batch()"
   ]
  },
  {
   "cell_type": "code",
   "execution_count": 57,
   "metadata": {},
   "outputs": [
    {
     "name": "stdout",
     "output_type": "stream",
     "text": [
      "by0.shape : torch.Size([20, 1, 2]), bt.shape: torch.Size([10]), by.shape: torch.Size([10, 20, 1, 2])\n",
      "by0.shape : torch.Size([20, 1, 1]), bt.shape: torch.Size([10]), by.shape: torch.Size([10, 20, 1, 1])\n"
     ]
    }
   ],
   "source": [
    "print(f'by0.shape : {by0.shape}, bt.shape: {bt.shape}, by.shape: {by.shape}')\n",
    "print(f'by0.shape : {by0_f.shape}, bt.shape: {bt_f.shape}, by.shape: {by_f.shape}')"
   ]
  },
  {
   "cell_type": "code",
   "execution_count": 59,
   "metadata": {},
   "outputs": [],
   "source": [
    "class ODEFunc(nn.Module):\n",
    "\n",
    "    def __init__(self):\n",
    "        super(ODEFunc, self).__init__()\n",
    "\n",
    "        self.net = nn.Sequential(\n",
    "            nn.Linear(1, 50),\n",
    "            nn.Tanh(),\n",
    "            nn.Linear(50, 1),\n",
    "        )\n",
    "\n",
    "        for m in self.net.modules():\n",
    "            if isinstance(m, nn.Linear):\n",
    "                nn.init.normal_(m.weight, mean=0, std=0.1)\n",
    "                nn.init.constant_(m.bias, val=0)\n",
    "\n",
    "    def forward(self, t, y):\n",
    "        return self.net(y)"
   ]
  },
  {
   "cell_type": "code",
   "execution_count": 60,
   "metadata": {},
   "outputs": [
    {
     "data": {
      "image/png": "[encoded data removed]",
      "text/plain": [
       "<Figure size 864x288 with 3 Axes>"
      ]
     },
     "metadata": {},
     "output_type": "display_data"
    }
   ],
   "source": [
    "fig = plt.figure(figsize=(12, 4), facecolor='white')\n",
    "ax_traj = fig.add_subplot(131, frameon=False)\n",
    "ax_phase = fig.add_subplot(132, frameon=False)\n",
    "ax_vecfield = fig.add_subplot(133, frameon=False)\n",
    "plt.show(block=False)"
   ]
  },
  {
   "cell_type": "code",
   "execution_count": 98,
   "metadata": {},
   "outputs": [],
   "source": [
    "def visualize(true_y, pred_y, odefunc, itr):\n",
    "    ax_traj.cla()\n",
    "    ax_traj.set_title('Trajectories')\n",
    "    ax_traj.set_xlabel('mjd')\n",
    "    ax_traj.set_ylabel('flux')\n",
    "    ax_traj.plot(mjds.numpy(), true_y.numpy()[:, 0, 0])\n",
    "    ax_traj.plot(mjds.numpy(), pred_y.numpy()[:, 0, 0], '--')\n",
    "    ax_traj.set_xlim(mjds.min(), mjds.max())\n",
    "#     ax_traj.set_ylim(-2, 2)\n",
    "    ax_traj.legend()\n",
    "\n",
    "#     ax_phase.cla()\n",
    "#     ax_phase.set_title('Phase Portrait')\n",
    "#     ax_phase.set_xlabel('x')\n",
    "#     ax_phase.set_ylabel('y')\n",
    "#     ax_phase.plot(true_y.numpy()[:, 0], true_y.numpy()[:, 1], 'g-')\n",
    "#     ax_phase.plot(pred_y.numpy()[:, 0], pred_y.numpy()[:, 1], 'b--')\n",
    "#     ax_phase.set_xlim(0, )\n",
    "#     ax_phase.set_ylim(-2, 2)\n",
    "\n",
    "#     ax_vecfield.cla()\n",
    "#     ax_vecfield.set_title('Learned Vector Field')\n",
    "#     ax_vecfield.set_xlabel('x')\n",
    "#     ax_vecfield.set_ylabel('mjd')\n",
    "\n",
    "#     y, x = np.mgrid[-2:2:21j, -2:2:21j]\n",
    "#     dydt = odefunc(0, torch.Tensor(np.stack([x, y], -1).reshape(21 * 21, 2))).cpu().detach().numpy()\n",
    "#     mag = np.sqrt(dydt[:, 0]**2 + dydt[:, 1]**2).reshape(-1, 1)\n",
    "#     dydt = (dydt / mag)\n",
    "#     dydt = dydt.reshape(21, 21, 2)\n",
    "\n",
    "#     ax_vecfield.streamplot(x, y, dydt[:, :, 0], dydt[:, :, 1], color=\"black\")\n",
    "#     ax_vecfield.set_xlim(-2, 2)\n",
    "#     ax_vecfield.set_ylim(-2, 2)\n",
    "\n",
    "    fig.tight_layout()\n",
    "#     plt.savefig('png/{:03d}'.format(itr))\n",
    "    plt.show()\n",
    "    plt.pause(0.001)\n"
   ]
  },
  {
   "cell_type": "code",
   "execution_count": 100,
   "metadata": {},
   "outputs": [
    {
     "name": "stderr",
     "output_type": "stream",
     "text": [
      "No handles with labels found to put in legend.\n"
     ]
    },
    {
     "name": "stdout",
     "output_type": "stream",
     "text": [
      "Iter 0020 | Total Loss 290.036804\n",
      "torch.Size([352, 1, 1])\n",
      "torch.Size([352, 1, 1])\n"
     ]
    },
    {
     "name": "stderr",
     "output_type": "stream",
     "text": [
      "No handles with labels found to put in legend.\n"
     ]
    },
    {
     "name": "stdout",
     "output_type": "stream",
     "text": [
      "Iter 0040 | Total Loss 291.942413\n",
      "torch.Size([352, 1, 1])\n",
      "torch.Size([352, 1, 1])\n"
     ]
    },
    {
     "name": "stderr",
     "output_type": "stream",
     "text": [
      "No handles with labels found to put in legend.\n"
     ]
    },
    {
     "name": "stdout",
     "output_type": "stream",
     "text": [
      "Iter 0060 | Total Loss 294.793060\n",
      "torch.Size([352, 1, 1])\n",
      "torch.Size([352, 1, 1])\n"
     ]
    },
    {
     "name": "stderr",
     "output_type": "stream",
     "text": [
      "No handles with labels found to put in legend.\n"
     ]
    },
    {
     "name": "stdout",
     "output_type": "stream",
     "text": [
      "Iter 0080 | Total Loss 297.500854\n",
      "torch.Size([352, 1, 1])\n",
      "torch.Size([352, 1, 1])\n"
     ]
    },
    {
     "name": "stderr",
     "output_type": "stream",
     "text": [
      "No handles with labels found to put in legend.\n"
     ]
    },
    {
     "name": "stdout",
     "output_type": "stream",
     "text": [
      "Iter 0100 | Total Loss 299.138672\n",
      "torch.Size([352, 1, 1])\n",
      "torch.Size([352, 1, 1])\n"
     ]
    }
   ],
   "source": [
    "niters = 100\n",
    "odefunc = ODEFunc()\n",
    "optimizer = optim.RMSprop(odefunc.parameters(), lr=1e-3)\n",
    "ii = 0\n",
    "for itr in range(1, niters + 1):\n",
    "    optimizer.zero_grad()\n",
    "    by0_f, bt_f, by_f = flux_batch()\n",
    "    pred_f = odeint(odefunc, by0_f, bt_f)\n",
    "    loss = torch.mean(torch.abs(pred_f - by_f))\n",
    "    loss.backward()\n",
    "    optimizer.step()\n",
    "    if itr % test_freq == 0:\n",
    "        with torch.no_grad():\n",
    "            pred_f = odeint(odefunc, flux_y0, mjds)\n",
    "            loss = torch.mean(torch.abs(pred_f - true_f))\n",
    "            print('Iter {:04d} | Total Loss {:.6f}'.format(itr, loss.item()))\n",
    "            visualize(true_f, pred_f, odefunc, ii)\n",
    "            ii += 1    "
   ]
  },
  {
   "cell_type": "code",
   "execution_count": 99,
   "metadata": {},
   "outputs": [
    {
     "name": "stderr",
     "output_type": "stream",
     "text": [
      "No handles with labels found to put in legend.\n"
     ]
    },
    {
     "name": "stdout",
     "output_type": "stream",
     "text": [
      "tensor(289.9848)\n",
      "torch.Size([352, 1, 1])\n",
      "torch.Size([352, 1, 1])\n"
     ]
    }
   ],
   "source": [
    "print(loss)\n",
    "visualize(true_f, pred_f.detach(), odefunc, itr)"
   ]
  },
  {
   "cell_type": "code",
   "execution_count": 88,
   "metadata": {},
   "outputs": [
    {
     "data": {
      "text/plain": [
       "array([[-113.58843 ],\n",
       "       [-113.55888 ],\n",
       "       [-113.52935 ],\n",
       "       [-113.49985 ],\n",
       "       [-105.703514],\n",
       "       [-105.672455],\n",
       "       [-105.64139 ],\n",
       "       [-105.594795],\n",
       "       [-105.5482  ],\n",
       "       [ -47.674652]], dtype=float32)"
      ]
     },
     "execution_count": 88,
     "metadata": {},
     "output_type": "execute_result"
    }
   ],
   "source": [
    "# true_f.numpy()[:, 0, 1]\n",
    "pred_f.detach().numpy()[:, 0, 0]\n",
    "# , t.numpy(), true_y.numpy()[:, 0, 1]"
   ]
  }
 ],
 "metadata": {
  "kernelspec": {
   "display_name": "Python 3",
   "language": "python",
   "name": "python3"
  },
  "language_info": {
   "codemirror_mode": {
    "name": "ipython",
    "version": 3
   },
   "file_extension": ".py",
   "mimetype": "text/x-python",
   "name": "python",
   "nbconvert_exporter": "python",
   "pygments_lexer": "ipython3",
   "version": "3.6.8"
  }
 },
 "nbformat": 4,
 "nbformat_minor": 2
}
