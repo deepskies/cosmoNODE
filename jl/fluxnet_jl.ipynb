{
 "cells": [
  {
   "cell_type": "code",
   "execution_count": 8,
   "metadata": {},
   "outputs": [
    {
     "name": "stdout",
     "output_type": "stream",
     "text": [
      "\u001b[32m\u001b[1m  Updating\u001b[22m\u001b[39m registry at `C:\\Users\\Anand\\.julia\\registries\\General`\n",
      "\u001b[32m\u001b[1m  Updating\u001b[22m\u001b[39m git-repo `https://github.com/JuliaRegistries/General.git`\n",
      "\u001b[2K\u001b[36m\u001b[1mFetching:\u001b[22m\u001b[39m [========================================>]  100.0 %.0 %=>                                       ]  1.4 %\u001b[36m\u001b[1mFetching:\u001b[22m\u001b[39m [===>                                     ]  6.3 %====>                                    ]  9.7 %]  14.8 %.3 %]  20.5 %\u001b[36m\u001b[1mFetching:\u001b[22m\u001b[39m [==========>                              ]  24.4 %7 %\u001b[36m\u001b[1mFetching:\u001b[22m\u001b[39m [==============>                          ]  32.7 %\u001b[36m\u001b[1mFetching:\u001b[22m\u001b[39m [================>                        ]  38.0 %\u001b[36m\u001b[1mFetching:\u001b[22m\u001b[39m [==================>                      ]  43.8 % [===================>                     ]  47.3 %\u001b[36m\u001b[1mFetching:\u001b[22m\u001b[39m [======================>                  ]  53.0 %\u001b[36m\u001b[1mFetching:\u001b[22m\u001b[39m [=======================>                 ]  57.0 % % [==============================>          ]  72.8 %]  78.8 %.1 % %\u001b[?25h\u001b[32m\u001b[1m Resolving\u001b[22m\u001b[39m package versions...\n",
      "\u001b[32m\u001b[1m Installed\u001b[22m\u001b[39m DataAPI ───────────── v1.0.1\n",
      "\u001b[32m\u001b[1m Installed\u001b[22m\u001b[39m RecursiveArrayTools ─ v1.0.2\n",
      "\u001b[32m\u001b[1m Installed\u001b[22m\u001b[39m PDMats ────────────── v0.9.8\n",
      "\u001b[32m\u001b[1m Installed\u001b[22m\u001b[39m CSTParser ─────────── v0.6.2\n",
      "\u001b[32m\u001b[1m Installed\u001b[22m\u001b[39m Cassette ──────────── v0.2.6\n",
      "\u001b[32m\u001b[1m Installed\u001b[22m\u001b[39m StochasticDiffEq ──── v6.8.0\n",
      "\u001b[32m\u001b[1m Installed\u001b[22m\u001b[39m DiffEqBase ────────── v5.20.0\n",
      "\u001b[32m\u001b[1m Installed\u001b[22m\u001b[39m OrdinaryDiffEq ────── v5.14.0\n",
      "\u001b[32m\u001b[1m Installed\u001b[22m\u001b[39m CodecZlib ─────────── v0.6.0\n",
      "\u001b[32m\u001b[1m Installed\u001b[22m\u001b[39m DiffEqDiffTools ───── v1.3.0\n",
      "\u001b[32m\u001b[1m  Updating\u001b[22m\u001b[39m `C:\\Users\\Anand\\.julia\\environments\\v1.1\\Project.toml`\n",
      " \u001b[90m [a93c6f00]\u001b[39m\u001b[92m + DataFrames v0.19.1\u001b[39m\n",
      " \u001b[90m [10745b16]\u001b[39m\u001b[92m + Statistics \u001b[39m\n",
      "\u001b[32m\u001b[1m  Updating\u001b[22m\u001b[39m `C:\\Users\\Anand\\.julia\\environments\\v1.1\\Manifest.toml`\n",
      " \u001b[90m [00ebfdb7]\u001b[39m\u001b[93m ↑ CSTParser v0.6.1 ⇒ v0.6.2\u001b[39m\n",
      " \u001b[90m [7057c7e9]\u001b[39m\u001b[93m ↑ Cassette v0.2.5 ⇒ v0.2.6\u001b[39m\n",
      " \u001b[90m [944b1d66]\u001b[39m\u001b[93m ↑ CodecZlib v0.5.2 ⇒ v0.6.0\u001b[39m\n",
      " \u001b[90m [9a962f9c]\u001b[39m\u001b[93m ↑ DataAPI v1.0.0 ⇒ v1.0.1\u001b[39m\n",
      " \u001b[90m [2b5f629d]\u001b[39m\u001b[93m ↑ DiffEqBase v5.19.0 ⇒ v5.20.0\u001b[39m\n",
      " \u001b[90m [01453d9d]\u001b[39m\u001b[93m ↑ DiffEqDiffTools v1.2.0 ⇒ v1.3.0\u001b[39m\n",
      " \u001b[90m [9fdde737]\u001b[39m\u001b[91m - DiffEqOperators v3.5.0\u001b[39m\n",
      " \u001b[90m [1dea7af3]\u001b[39m\u001b[93m ↑ OrdinaryDiffEq v5.13.0 ⇒ v5.14.0\u001b[39m\n",
      " \u001b[90m [90014a1f]\u001b[39m\u001b[93m ↑ PDMats v0.9.7 ⇒ v0.9.8\u001b[39m\n",
      " \u001b[90m [731186ca]\u001b[39m\u001b[93m ↑ RecursiveArrayTools v1.0.1 ⇒ v1.0.2\u001b[39m\n",
      " \u001b[90m [789caeaf]\u001b[39m\u001b[93m ↑ StochasticDiffEq v6.7.0 ⇒ v6.8.0\u001b[39m\n",
      "\u001b[32m\u001b[1m  Building\u001b[22m\u001b[39m CodecZlib → `C:\\Users\\Anand\\.julia\\packages\\CodecZlib\\5t9zO\\deps\\build.log`\n"
     ]
    }
   ],
   "source": [
    "using Pkg\n",
    "Pkg.add([\"DataFrames\", \"Statistics\"])"
   ]
  },
  {
   "cell_type": "code",
   "execution_count": 9,
   "metadata": {},
   "outputs": [],
   "source": [
    "using CSV, DataFrames, Statistics"
   ]
  },
  {
   "cell_type": "code",
   "execution_count": 10,
   "metadata": {},
   "outputs": [
    {
     "data": {
      "text/html": [
       "<table class=\"data-frame\"><thead><tr><th></th><th>object_id</th><th>mjd</th><th>passband</th><th>flux</th><th>flux_err</th><th>detected</th></tr><tr><th></th><th>Int64</th><th>Float64</th><th>Int64</th><th>Float64</th><th>Float64</th><th>Int64</th></tr></thead><tbody><p>5 rows × 6 columns</p><tr><th>1</th><td>615</td><td>59750.4</td><td>2</td><td>-544.81</td><td>3.62295</td><td>1</td></tr><tr><th>2</th><td>615</td><td>59750.4</td><td>1</td><td>-816.434</td><td>5.55337</td><td>1</td></tr><tr><th>3</th><td>615</td><td>59750.4</td><td>3</td><td>-471.386</td><td>3.80121</td><td>1</td></tr><tr><th>4</th><td>615</td><td>59750.4</td><td>4</td><td>-388.985</td><td>11.395</td><td>1</td></tr><tr><th>5</th><td>615</td><td>59752.4</td><td>2</td><td>-681.859</td><td>4.0412</td><td>1</td></tr></tbody></table>"
      ],
      "text/latex": [
       "\\begin{tabular}{r|cccccc}\n",
       "\t& object\\_id & mjd & passband & flux & flux\\_err & detected\\\\\n",
       "\t\\hline\n",
       "\t& Int64 & Float64 & Int64 & Float64 & Float64 & Int64\\\\\n",
       "\t\\hline\n",
       "\t1 & 615 & 59750.4 & 2 & -544.81 & 3.62295 & 1 \\\\\n",
       "\t2 & 615 & 59750.4 & 1 & -816.434 & 5.55337 & 1 \\\\\n",
       "\t3 & 615 & 59750.4 & 3 & -471.386 & 3.80121 & 1 \\\\\n",
       "\t4 & 615 & 59750.4 & 4 & -388.985 & 11.395 & 1 \\\\\n",
       "\t5 & 615 & 59752.4 & 2 & -681.859 & 4.0412 & 1 \\\\\n",
       "\\end{tabular}\n"
      ],
      "text/plain": [
       "5×6 DataFrame\n",
       "│ Row │ object_id │ mjd     │ passband │ flux     │ flux_err │ detected │\n",
       "│     │ \u001b[90mInt64\u001b[39m     │ \u001b[90mFloat64\u001b[39m │ \u001b[90mInt64\u001b[39m    │ \u001b[90mFloat64\u001b[39m  │ \u001b[90mFloat64\u001b[39m  │ \u001b[90mInt64\u001b[39m    │\n",
       "├─────┼───────────┼─────────┼──────────┼──────────┼──────────┼──────────┤\n",
       "│ 1   │ 615       │ 59750.4 │ 2        │ -544.81  │ 3.62295  │ 1        │\n",
       "│ 2   │ 615       │ 59750.4 │ 1        │ -816.434 │ 5.55337  │ 1        │\n",
       "│ 3   │ 615       │ 59750.4 │ 3        │ -471.386 │ 3.80121  │ 1        │\n",
       "│ 4   │ 615       │ 59750.4 │ 4        │ -388.985 │ 11.395   │ 1        │\n",
       "│ 5   │ 615       │ 59752.4 │ 2        │ -681.859 │ 4.0412   │ 1        │"
      ]
     },
     "execution_count": 10,
     "metadata": {},
     "output_type": "execute_result"
    }
   ],
   "source": [
    "df = CSV.read(\"../demos/data/training_set.csv\")\n",
    "first(df, 5)\n",
    "# meta = CSV.read(\"../demos/data/training_set_metadata.csv\")"
   ]
  },
  {
   "cell_type": "code",
   "execution_count": 12,
   "metadata": {},
   "outputs": [
    {
     "data": {
      "text/html": [
       "<p><b>GroupedDataFrame with 7848 groups based on key: object_id</b></p><p><i>First Group (352 rows): object_id = 615</i></p><table class=\"data-frame\"><thead><tr><th></th><th>object_id</th><th>mjd</th><th>passband</th><th>flux</th><th>flux_err</th><th>detected</th></tr><tr><th></th><th>Int64</th><th>Float64</th><th>Int64</th><th>Float64</th><th>Float64</th><th>Int64</th></tr></thead><tbody><tr><th>1</th><td>615</td><td>59750.4</td><td>2</td><td>-544.81</td><td>3.62295</td><td>1</td></tr><tr><th>2</th><td>615</td><td>59750.4</td><td>1</td><td>-816.434</td><td>5.55337</td><td>1</td></tr><tr><th>3</th><td>615</td><td>59750.4</td><td>3</td><td>-471.386</td><td>3.80121</td><td>1</td></tr><tr><th>4</th><td>615</td><td>59750.4</td><td>4</td><td>-388.985</td><td>11.395</td><td>1</td></tr><tr><th>5</th><td>615</td><td>59752.4</td><td>2</td><td>-681.859</td><td>4.0412</td><td>1</td></tr><tr><th>6</th><td>615</td><td>59752.4</td><td>1</td><td>-1061.46</td><td>6.47299</td><td>1</td></tr><tr><th>7</th><td>615</td><td>59752.4</td><td>3</td><td>-524.955</td><td>3.55275</td><td>1</td></tr><tr><th>8</th><td>615</td><td>59752.4</td><td>4</td><td>-393.48</td><td>3.59935</td><td>1</td></tr><tr><th>9</th><td>615</td><td>59752.4</td><td>5</td><td>-355.887</td><td>10.4219</td><td>1</td></tr><tr><th>10</th><td>615</td><td>59767.3</td><td>2</td><td>-548.014</td><td>3.46229</td><td>1</td></tr><tr><th>11</th><td>615</td><td>59767.3</td><td>1</td><td>-815.189</td><td>5.29302</td><td>1</td></tr><tr><th>12</th><td>615</td><td>59767.3</td><td>3</td><td>-475.516</td><td>3.34064</td><td>1</td></tr><tr><th>13</th><td>615</td><td>59767.3</td><td>4</td><td>-405.664</td><td>3.49611</td><td>1</td></tr><tr><th>14</th><td>615</td><td>59767.3</td><td>5</td><td>-421.199</td><td>6.37752</td><td>1</td></tr><tr><th>15</th><td>615</td><td>59770.2</td><td>2</td><td>-554.903</td><td>3.92784</td><td>1</td></tr><tr><th>16</th><td>615</td><td>59770.2</td><td>1</td><td>-820.043</td><td>5.87533</td><td>1</td></tr><tr><th>17</th><td>615</td><td>59770.2</td><td>3</td><td>-477.005</td><td>3.73626</td><td>1</td></tr><tr><th>18</th><td>615</td><td>59770.2</td><td>4</td><td>-400.27</td><td>3.83495</td><td>1</td></tr><tr><th>19</th><td>615</td><td>59770.3</td><td>5</td><td>-415.287</td><td>7.43598</td><td>1</td></tr><tr><th>20</th><td>615</td><td>59779.3</td><td>2</td><td>-630.524</td><td>4.33329</td><td>1</td></tr><tr><th>21</th><td>615</td><td>59779.3</td><td>1</td><td>-921.003</td><td>6.3068</td><td>1</td></tr><tr><th>22</th><td>615</td><td>59779.3</td><td>3</td><td>-518.534</td><td>3.91522</td><td>1</td></tr><tr><th>23</th><td>615</td><td>59779.3</td><td>4</td><td>-422.185</td><td>4.08921</td><td>1</td></tr><tr><th>24</th><td>615</td><td>59779.4</td><td>5</td><td>-422.815</td><td>8.1241</td><td>1</td></tr><tr><th>25</th><td>615</td><td>59782.2</td><td>2</td><td>-280.04</td><td>2.81923</td><td>1</td></tr><tr><th>26</th><td>615</td><td>59782.2</td><td>1</td><td>-449.096</td><td>4.02831</td><td>1</td></tr><tr><th>27</th><td>615</td><td>59782.2</td><td>3</td><td>-316.705</td><td>3.49115</td><td>1</td></tr><tr><th>28</th><td>615</td><td>59782.2</td><td>4</td><td>-332.885</td><td>4.02162</td><td>1</td></tr><tr><th>29</th><td>615</td><td>59782.2</td><td>5</td><td>-365.076</td><td>8.51481</td><td>1</td></tr><tr><th>30</th><td>615</td><td>59797.3</td><td>2</td><td>391.399</td><td>3.09806</td><td>1</td></tr><tr><th>&vellip;</th><td>&vellip;</td><td>&vellip;</td><td>&vellip;</td><td>&vellip;</td><td>&vellip;</td><td>&vellip;</td></tr></tbody></table><p>&vellip;</p><p><i>Last Group (118 rows): object_id = 130779836</i></p><table class=\"data-frame\"><thead><tr><th></th><th>object_id</th><th>mjd</th><th>passband</th><th>flux</th><th>flux_err</th><th>detected</th></tr><tr><th></th><th>Int64</th><th>Float64</th><th>Int64</th><th>Float64</th><th>Float64</th><th>Int64</th></tr></thead><tbody><tr><th>1</th><td>130779836</td><td>59710.4</td><td>3</td><td>571.036</td><td>38.5343</td><td>1</td></tr><tr><th>2</th><td>130779836</td><td>59715.3</td><td>5</td><td>749.964</td><td>32.5266</td><td>1</td></tr><tr><th>3</th><td>130779836</td><td>59722.3</td><td>4</td><td>811.698</td><td>33.419</td><td>1</td></tr><tr><th>4</th><td>130779836</td><td>59728.4</td><td>4</td><td>791.285</td><td>46.7161</td><td>1</td></tr><tr><th>5</th><td>130779836</td><td>59729.2</td><td>3</td><td>834.375</td><td>28.9768</td><td>1</td></tr><tr><th>6</th><td>130779836</td><td>59753.1</td><td>1</td><td>759.056</td><td>23.7361</td><td>1</td></tr><tr><th>7</th><td>130779836</td><td>59769.1</td><td>4</td><td>2148.49</td><td>25.1892</td><td>1</td></tr><tr><th>8</th><td>130779836</td><td>59772.2</td><td>5</td><td>2285.12</td><td>79.4102</td><td>1</td></tr><tr><th>9</th><td>130779836</td><td>59776.3</td><td>4</td><td>2471.02</td><td>27.2774</td><td>1</td></tr><tr><th>10</th><td>130779836</td><td>59777.3</td><td>5</td><td>2618.36</td><td>46.5591</td><td>1</td></tr><tr><th>11</th><td>130779836</td><td>59778.1</td><td>2</td><td>2269.78</td><td>35.3567</td><td>1</td></tr><tr><th>12</th><td>130779836</td><td>59799.1</td><td>5</td><td>4463.83</td><td>54.3782</td><td>1</td></tr><tr><th>13</th><td>130779836</td><td>59804.1</td><td>4</td><td>4960.22</td><td>41.6005</td><td>1</td></tr><tr><th>14</th><td>130779836</td><td>59805.0</td><td>3</td><td>4972.9</td><td>54.5233</td><td>1</td></tr><tr><th>15</th><td>130779836</td><td>59806.2</td><td>3</td><td>4995.14</td><td>50.1811</td><td>1</td></tr><tr><th>16</th><td>130779836</td><td>59807.1</td><td>2</td><td>4531.69</td><td>55.4491</td><td>1</td></tr><tr><th>17</th><td>130779836</td><td>59810.1</td><td>2</td><td>4908.62</td><td>66.0932</td><td>1</td></tr><tr><th>18</th><td>130779836</td><td>59810.2</td><td>1</td><td>3088.28</td><td>53.1826</td><td>1</td></tr><tr><th>19</th><td>130779836</td><td>59811.0</td><td>2</td><td>5030.67</td><td>60.4164</td><td>1</td></tr><tr><th>20</th><td>130779836</td><td>59812.0</td><td>1</td><td>3320.94</td><td>56.9018</td><td>1</td></tr><tr><th>21</th><td>130779836</td><td>59817.1</td><td>0</td><td>1036.6</td><td>57.7622</td><td>1</td></tr><tr><th>22</th><td>130779836</td><td>59818.1</td><td>0</td><td>1081.98</td><td>61.7243</td><td>1</td></tr><tr><th>23</th><td>130779836</td><td>59835.0</td><td>5</td><td>12149.3</td><td>92.7928</td><td>1</td></tr><tr><th>24</th><td>130779836</td><td>59835.1</td><td>2</td><td>10043.9</td><td>120.557</td><td>1</td></tr><tr><th>25</th><td>130779836</td><td>59845.0</td><td>4</td><td>16366.4</td><td>130.593</td><td>1</td></tr><tr><th>26</th><td>130779836</td><td>59859.1</td><td>5</td><td>27343.8</td><td>199.968</td><td>1</td></tr><tr><th>27</th><td>130779836</td><td>59861.0</td><td>5</td><td>29058.2</td><td>210.281</td><td>1</td></tr><tr><th>28</th><td>130779836</td><td>59868.0</td><td>2</td><td>31437.1</td><td>362.05</td><td>1</td></tr><tr><th>29</th><td>130779836</td><td>59877.0</td><td>4</td><td>54982.9</td><td>424.749</td><td>1</td></tr><tr><th>30</th><td>130779836</td><td>59877.1</td><td>0</td><td>7761.32</td><td>167.562</td><td>1</td></tr><tr><th>&vellip;</th><td>&vellip;</td><td>&vellip;</td><td>&vellip;</td><td>&vellip;</td><td>&vellip;</td><td>&vellip;</td></tr></tbody></table>"
      ],
      "text/latex": [
       "GroupedDataFrame with 7848 groups based on key: object\\_id\n",
       "\n",
       "First Group (352 rows): object\\_id = 615\n",
       "\n",
       "\\begin{tabular}{r|cccccc}\n",
       "\t& object\\_id & mjd & passband & flux & flux\\_err & detected\\\\\n",
       "\t\\hline\n",
       "\t& Int64 & Float64 & Int64 & Float64 & Float64 & Int64\\\\\n",
       "\t\\hline\n",
       "\t1 & 615 & 59750.4 & 2 & -544.81 & 3.62295 & 1 \\\\\n",
       "\t2 & 615 & 59750.4 & 1 & -816.434 & 5.55337 & 1 \\\\\n",
       "\t3 & 615 & 59750.4 & 3 & -471.386 & 3.80121 & 1 \\\\\n",
       "\t4 & 615 & 59750.4 & 4 & -388.985 & 11.395 & 1 \\\\\n",
       "\t5 & 615 & 59752.4 & 2 & -681.859 & 4.0412 & 1 \\\\\n",
       "\t6 & 615 & 59752.4 & 1 & -1061.46 & 6.47299 & 1 \\\\\n",
       "\t7 & 615 & 59752.4 & 3 & -524.955 & 3.55275 & 1 \\\\\n",
       "\t8 & 615 & 59752.4 & 4 & -393.48 & 3.59935 & 1 \\\\\n",
       "\t9 & 615 & 59752.4 & 5 & -355.887 & 10.4219 & 1 \\\\\n",
       "\t10 & 615 & 59767.3 & 2 & -548.014 & 3.46229 & 1 \\\\\n",
       "\t11 & 615 & 59767.3 & 1 & -815.189 & 5.29302 & 1 \\\\\n",
       "\t12 & 615 & 59767.3 & 3 & -475.516 & 3.34064 & 1 \\\\\n",
       "\t13 & 615 & 59767.3 & 4 & -405.664 & 3.49611 & 1 \\\\\n",
       "\t14 & 615 & 59767.3 & 5 & -421.199 & 6.37752 & 1 \\\\\n",
       "\t15 & 615 & 59770.2 & 2 & -554.903 & 3.92784 & 1 \\\\\n",
       "\t16 & 615 & 59770.2 & 1 & -820.043 & 5.87533 & 1 \\\\\n",
       "\t17 & 615 & 59770.2 & 3 & -477.005 & 3.73626 & 1 \\\\\n",
       "\t18 & 615 & 59770.2 & 4 & -400.27 & 3.83495 & 1 \\\\\n",
       "\t19 & 615 & 59770.3 & 5 & -415.287 & 7.43598 & 1 \\\\\n",
       "\t20 & 615 & 59779.3 & 2 & -630.524 & 4.33329 & 1 \\\\\n",
       "\t21 & 615 & 59779.3 & 1 & -921.003 & 6.3068 & 1 \\\\\n",
       "\t22 & 615 & 59779.3 & 3 & -518.534 & 3.91522 & 1 \\\\\n",
       "\t23 & 615 & 59779.3 & 4 & -422.185 & 4.08921 & 1 \\\\\n",
       "\t24 & 615 & 59779.4 & 5 & -422.815 & 8.1241 & 1 \\\\\n",
       "\t25 & 615 & 59782.2 & 2 & -280.04 & 2.81923 & 1 \\\\\n",
       "\t26 & 615 & 59782.2 & 1 & -449.096 & 4.02831 & 1 \\\\\n",
       "\t27 & 615 & 59782.2 & 3 & -316.705 & 3.49115 & 1 \\\\\n",
       "\t28 & 615 & 59782.2 & 4 & -332.885 & 4.02162 & 1 \\\\\n",
       "\t29 & 615 & 59782.2 & 5 & -365.076 & 8.51481 & 1 \\\\\n",
       "\t30 & 615 & 59797.3 & 2 & 391.399 & 3.09806 & 1 \\\\\n",
       "\t$\\dots$ & $\\dots$ & $\\dots$ & $\\dots$ & $\\dots$ & $\\dots$ & $\\dots$ \\\\\n",
       "\\end{tabular}\n",
       "\n",
       "$\\dots$\n",
       "\n",
       "Last Group (118 rows): object\\_id = 130779836\n",
       "\n",
       "\\begin{tabular}{r|cccccc}\n",
       "\t& object\\_id & mjd & passband & flux & flux\\_err & detected\\\\\n",
       "\t\\hline\n",
       "\t& Int64 & Float64 & Int64 & Float64 & Float64 & Int64\\\\\n",
       "\t\\hline\n",
       "\t1 & 130779836 & 59710.4 & 3 & 571.036 & 38.5343 & 1 \\\\\n",
       "\t2 & 130779836 & 59715.3 & 5 & 749.964 & 32.5266 & 1 \\\\\n",
       "\t3 & 130779836 & 59722.3 & 4 & 811.698 & 33.419 & 1 \\\\\n",
       "\t4 & 130779836 & 59728.4 & 4 & 791.285 & 46.7161 & 1 \\\\\n",
       "\t5 & 130779836 & 59729.2 & 3 & 834.375 & 28.9768 & 1 \\\\\n",
       "\t6 & 130779836 & 59753.1 & 1 & 759.056 & 23.7361 & 1 \\\\\n",
       "\t7 & 130779836 & 59769.1 & 4 & 2148.49 & 25.1892 & 1 \\\\\n",
       "\t8 & 130779836 & 59772.2 & 5 & 2285.12 & 79.4102 & 1 \\\\\n",
       "\t9 & 130779836 & 59776.3 & 4 & 2471.02 & 27.2774 & 1 \\\\\n",
       "\t10 & 130779836 & 59777.3 & 5 & 2618.36 & 46.5591 & 1 \\\\\n",
       "\t11 & 130779836 & 59778.1 & 2 & 2269.78 & 35.3567 & 1 \\\\\n",
       "\t12 & 130779836 & 59799.1 & 5 & 4463.83 & 54.3782 & 1 \\\\\n",
       "\t13 & 130779836 & 59804.1 & 4 & 4960.22 & 41.6005 & 1 \\\\\n",
       "\t14 & 130779836 & 59805.0 & 3 & 4972.9 & 54.5233 & 1 \\\\\n",
       "\t15 & 130779836 & 59806.2 & 3 & 4995.14 & 50.1811 & 1 \\\\\n",
       "\t16 & 130779836 & 59807.1 & 2 & 4531.69 & 55.4491 & 1 \\\\\n",
       "\t17 & 130779836 & 59810.1 & 2 & 4908.62 & 66.0932 & 1 \\\\\n",
       "\t18 & 130779836 & 59810.2 & 1 & 3088.28 & 53.1826 & 1 \\\\\n",
       "\t19 & 130779836 & 59811.0 & 2 & 5030.67 & 60.4164 & 1 \\\\\n",
       "\t20 & 130779836 & 59812.0 & 1 & 3320.94 & 56.9018 & 1 \\\\\n",
       "\t21 & 130779836 & 59817.1 & 0 & 1036.6 & 57.7622 & 1 \\\\\n",
       "\t22 & 130779836 & 59818.1 & 0 & 1081.98 & 61.7243 & 1 \\\\\n",
       "\t23 & 130779836 & 59835.0 & 5 & 12149.3 & 92.7928 & 1 \\\\\n",
       "\t24 & 130779836 & 59835.1 & 2 & 10043.9 & 120.557 & 1 \\\\\n",
       "\t25 & 130779836 & 59845.0 & 4 & 16366.4 & 130.593 & 1 \\\\\n",
       "\t26 & 130779836 & 59859.1 & 5 & 27343.8 & 199.968 & 1 \\\\\n",
       "\t27 & 130779836 & 59861.0 & 5 & 29058.2 & 210.281 & 1 \\\\\n",
       "\t28 & 130779836 & 59868.0 & 2 & 31437.1 & 362.05 & 1 \\\\\n",
       "\t29 & 130779836 & 59877.0 & 4 & 54982.9 & 424.749 & 1 \\\\\n",
       "\t30 & 130779836 & 59877.1 & 0 & 7761.32 & 167.562 & 1 \\\\\n",
       "\t$\\dots$ & $\\dots$ & $\\dots$ & $\\dots$ & $\\dots$ & $\\dots$ & $\\dots$ \\\\\n",
       "\\end{tabular}\n"
      ],
      "text/plain": [
       "GroupedDataFrame with 7848 groups based on key: object_id\n",
       "First Group (352 rows): object_id = 615\n",
       "│ Row │ object_id │ mjd     │ passband │ flux     │ flux_err │ detected │\n",
       "│     │ \u001b[90mInt64\u001b[39m     │ \u001b[90mFloat64\u001b[39m │ \u001b[90mInt64\u001b[39m    │ \u001b[90mFloat64\u001b[39m  │ \u001b[90mFloat64\u001b[39m  │ \u001b[90mInt64\u001b[39m    │\n",
       "├─────┼───────────┼─────────┼──────────┼──────────┼──────────┼──────────┤\n",
       "│ 1   │ 615       │ 59750.4 │ 2        │ -544.81  │ 3.62295  │ 1        │\n",
       "│ 2   │ 615       │ 59750.4 │ 1        │ -816.434 │ 5.55337  │ 1        │\n",
       "│ 3   │ 615       │ 59750.4 │ 3        │ -471.386 │ 3.80121  │ 1        │\n",
       "│ 4   │ 615       │ 59750.4 │ 4        │ -388.985 │ 11.395   │ 1        │\n",
       "│ 5   │ 615       │ 59752.4 │ 2        │ -681.859 │ 4.0412   │ 1        │\n",
       "│ 6   │ 615       │ 59752.4 │ 1        │ -1061.46 │ 6.47299  │ 1        │\n",
       "│ 7   │ 615       │ 59752.4 │ 3        │ -524.955 │ 3.55275  │ 1        │\n",
       "│ 8   │ 615       │ 59752.4 │ 4        │ -393.48  │ 3.59935  │ 1        │\n",
       "│ 9   │ 615       │ 59752.4 │ 5        │ -355.887 │ 10.4219  │ 1        │\n",
       "│ 10  │ 615       │ 59767.3 │ 2        │ -548.014 │ 3.46229  │ 1        │\n",
       "⋮\n",
       "│ 342 │ 615       │ 60617.0 │ 0        │ 121.412  │ 3.56978  │ 1        │\n",
       "│ 343 │ 615       │ 60621.2 │ 2        │ 56.5598  │ 2.25983  │ 1        │\n",
       "│ 344 │ 615       │ 60621.2 │ 1        │ -607.041 │ 4.45246  │ 1        │\n",
       "│ 345 │ 615       │ 60621.2 │ 3        │ 208.77   │ 2.95978  │ 1        │\n",
       "│ 346 │ 615       │ 60621.2 │ 4        │ 297.625  │ 3.71859  │ 1        │\n",
       "│ 347 │ 615       │ 60621.2 │ 5        │ 332.919  │ 8.15717  │ 1        │\n",
       "│ 348 │ 615       │ 60624.2 │ 2        │ 552.15   │ 3.91799  │ 1        │\n",
       "│ 349 │ 615       │ 60624.2 │ 1        │ 607.048  │ 5.14099  │ 1        │\n",
       "│ 350 │ 615       │ 60624.2 │ 3        │ 296.947  │ 3.475    │ 1        │\n",
       "│ 351 │ 615       │ 60624.2 │ 4        │ 235.49   │ 3.92654  │ 1        │\n",
       "│ 352 │ 615       │ 60624.2 │ 5        │ 157.08   │ 8.45311  │ 1        │\n",
       "⋮\n",
       "Last Group (118 rows): object_id = 130779836\n",
       "│ Row │ object_id │ mjd     │ passband │ flux     │ flux_err │ detected │\n",
       "│     │ \u001b[90mInt64\u001b[39m     │ \u001b[90mFloat64\u001b[39m │ \u001b[90mInt64\u001b[39m    │ \u001b[90mFloat64\u001b[39m  │ \u001b[90mFloat64\u001b[39m  │ \u001b[90mInt64\u001b[39m    │\n",
       "├─────┼───────────┼─────────┼──────────┼──────────┼──────────┼──────────┤\n",
       "│ 1   │ 130779836 │ 59710.4 │ 3        │ 571.036  │ 38.5343  │ 1        │\n",
       "│ 2   │ 130779836 │ 59715.3 │ 5        │ 749.964  │ 32.5266  │ 1        │\n",
       "│ 3   │ 130779836 │ 59722.3 │ 4        │ 811.698  │ 33.419   │ 1        │\n",
       "│ 4   │ 130779836 │ 59728.4 │ 4        │ 791.285  │ 46.7161  │ 1        │\n",
       "│ 5   │ 130779836 │ 59729.2 │ 3        │ 834.375  │ 28.9768  │ 1        │\n",
       "│ 6   │ 130779836 │ 59753.1 │ 1        │ 759.056  │ 23.7361  │ 1        │\n",
       "│ 7   │ 130779836 │ 59769.1 │ 4        │ 2148.49  │ 25.1892  │ 1        │\n",
       "│ 8   │ 130779836 │ 59772.2 │ 5        │ 2285.12  │ 79.4102  │ 1        │\n",
       "│ 9   │ 130779836 │ 59776.3 │ 4        │ 2471.02  │ 27.2774  │ 1        │\n",
       "│ 10  │ 130779836 │ 59777.3 │ 5        │ 2618.36  │ 46.5591  │ 1        │\n",
       "⋮\n",
       "│ 108 │ 130779836 │ 60537.1 │ 3        │ -41.85   │ 26.7824  │ 0        │\n",
       "│ 109 │ 130779836 │ 60542.0 │ 4        │ -60.5005 │ 14.7438  │ 0        │\n",
       "│ 110 │ 130779836 │ 60543.0 │ 4        │ -48.5272 │ 24.0041  │ 0        │\n",
       "│ 111 │ 130779836 │ 60546.0 │ 5        │ 32.0064  │ 77.9317  │ 0        │\n",
       "│ 112 │ 130779836 │ 60547.0 │ 5        │ 68.153   │ 56.351   │ 0        │\n",
       "│ 113 │ 130779836 │ 60549.0 │ 4        │ -60.0662 │ 34.3533  │ 0        │\n",
       "│ 114 │ 130779836 │ 60556.0 │ 4        │ -39.882  │ 46.4771  │ 0        │\n",
       "│ 115 │ 130779836 │ 60560.0 │ 1        │ 14.8944  │ 18.9477  │ 0        │\n",
       "│ 116 │ 130779836 │ 60571.0 │ 5        │ 30.5931  │ 50.6953  │ 0        │\n",
       "│ 117 │ 130779836 │ 60586.0 │ 4        │ -23.4714 │ 44.8199  │ 0        │\n",
       "│ 118 │ 130779836 │ 60588.0 │ 0        │ -41.2143 │ 51.6651  │ 0        │"
      ]
     },
     "execution_count": 12,
     "metadata": {},
     "output_type": "execute_result"
    }
   ],
   "source": [
    "groups = groupby(df, :object_id)"
   ]
  },
  {
   "cell_type": "code",
   "execution_count": 61,
   "metadata": {},
   "outputs": [
    {
     "data": {
      "text/plain": [
       "6-element Array{Symbol,1}:\n",
       " :object_id\n",
       " :mjd      \n",
       " :passband \n",
       " :flux     \n",
       " :flux_err \n",
       " :detected "
      ]
     },
     "execution_count": 61,
     "metadata": {},
     "output_type": "execute_result"
    }
   ],
   "source": [
    "length(groups)\n",
    "# typeof(groups)\n",
    "curves = []\n",
    "# names(groups[1])"
   ]
  },
  {
   "cell_type": "code",
   "execution_count": 57,
   "metadata": {},
   "outputs": [
    {
     "ename": "MethodError",
     "evalue": "MethodError: no method matching iterate(::SubDataFrame{DataFrame,DataFrames.Index,Array{Int64,1}})\nClosest candidates are:\n  iterate(!Matched::Core.SimpleVector) at essentials.jl:568\n  iterate(!Matched::Core.SimpleVector, !Matched::Any) at essentials.jl:568\n  iterate(!Matched::ExponentialBackOff) at error.jl:199\n  ...",
     "output_type": "error",
     "traceback": [
      "MethodError: no method matching iterate(::SubDataFrame{DataFrame,DataFrames.Index,Array{Int64,1}})\nClosest candidates are:\n  iterate(!Matched::Core.SimpleVector) at essentials.jl:568\n  iterate(!Matched::Core.SimpleVector, !Matched::Any) at essentials.jl:568\n  iterate(!Matched::ExponentialBackOff) at error.jl:199\n  ...",
      "",
      "Stacktrace:",
      " [1] _zip_iterate_some at .\\iterators.jl:350 [inlined]",
      " [2] _zip_iterate_some at .\\iterators.jl:352 [inlined]",
      " [3] _zip_iterate_all at .\\iterators.jl:342 [inlined]",
      " [4] iterate at .\\iterators.jl:332 [inlined]",
      " [5] _append!(::Array{Any,1}, ::Base.HasLength, ::SubDataFrame{DataFrame,DataFrames.Index,Array{Int64,1}}) at .\\array.jl:907",
      " [6] append!(::Array{Any,1}, ::SubDataFrame{DataFrame,DataFrames.Index,Array{Int64,1}}) at .\\array.jl:900",
      " [7] top-level scope at .\\In[57]:2"
     ]
    }
   ],
   "source": [
    "for (i, object) in enumerate(groups)\n",
    "    append!(curves, object)\n",
    "end"
   ]
  },
  {
   "cell_type": "code",
   "execution_count": 19,
   "metadata": {
    "scrolled": true
   },
   "outputs": [
    {
     "data": {
      "text/html": [
       "<table class=\"data-frame\"><thead><tr><th></th><th>object_id</th><th>mjd</th><th>passband</th><th>flux</th><th>flux_err</th><th>detected</th></tr><tr><th></th><th>Int64</th><th>Float64</th><th>Int64</th><th>Float64</th><th>Float64</th><th>Int64</th></tr></thead><tbody><p>352 rows × 6 columns</p><tr><th>1</th><td>615</td><td>59750.4</td><td>2</td><td>-544.81</td><td>3.62295</td><td>1</td></tr><tr><th>2</th><td>615</td><td>59750.4</td><td>1</td><td>-816.434</td><td>5.55337</td><td>1</td></tr><tr><th>3</th><td>615</td><td>59750.4</td><td>3</td><td>-471.386</td><td>3.80121</td><td>1</td></tr><tr><th>4</th><td>615</td><td>59750.4</td><td>4</td><td>-388.985</td><td>11.395</td><td>1</td></tr><tr><th>5</th><td>615</td><td>59752.4</td><td>2</td><td>-681.859</td><td>4.0412</td><td>1</td></tr><tr><th>6</th><td>615</td><td>59752.4</td><td>1</td><td>-1061.46</td><td>6.47299</td><td>1</td></tr><tr><th>7</th><td>615</td><td>59752.4</td><td>3</td><td>-524.955</td><td>3.55275</td><td>1</td></tr><tr><th>8</th><td>615</td><td>59752.4</td><td>4</td><td>-393.48</td><td>3.59935</td><td>1</td></tr><tr><th>9</th><td>615</td><td>59752.4</td><td>5</td><td>-355.887</td><td>10.4219</td><td>1</td></tr><tr><th>10</th><td>615</td><td>59767.3</td><td>2</td><td>-548.014</td><td>3.46229</td><td>1</td></tr><tr><th>11</th><td>615</td><td>59767.3</td><td>1</td><td>-815.189</td><td>5.29302</td><td>1</td></tr><tr><th>12</th><td>615</td><td>59767.3</td><td>3</td><td>-475.516</td><td>3.34064</td><td>1</td></tr><tr><th>13</th><td>615</td><td>59767.3</td><td>4</td><td>-405.664</td><td>3.49611</td><td>1</td></tr><tr><th>14</th><td>615</td><td>59767.3</td><td>5</td><td>-421.199</td><td>6.37752</td><td>1</td></tr><tr><th>15</th><td>615</td><td>59770.2</td><td>2</td><td>-554.903</td><td>3.92784</td><td>1</td></tr><tr><th>16</th><td>615</td><td>59770.2</td><td>1</td><td>-820.043</td><td>5.87533</td><td>1</td></tr><tr><th>17</th><td>615</td><td>59770.2</td><td>3</td><td>-477.005</td><td>3.73626</td><td>1</td></tr><tr><th>18</th><td>615</td><td>59770.2</td><td>4</td><td>-400.27</td><td>3.83495</td><td>1</td></tr><tr><th>19</th><td>615</td><td>59770.3</td><td>5</td><td>-415.287</td><td>7.43598</td><td>1</td></tr><tr><th>20</th><td>615</td><td>59779.3</td><td>2</td><td>-630.524</td><td>4.33329</td><td>1</td></tr><tr><th>21</th><td>615</td><td>59779.3</td><td>1</td><td>-921.003</td><td>6.3068</td><td>1</td></tr><tr><th>22</th><td>615</td><td>59779.3</td><td>3</td><td>-518.534</td><td>3.91522</td><td>1</td></tr><tr><th>23</th><td>615</td><td>59779.3</td><td>4</td><td>-422.185</td><td>4.08921</td><td>1</td></tr><tr><th>24</th><td>615</td><td>59779.4</td><td>5</td><td>-422.815</td><td>8.1241</td><td>1</td></tr><tr><th>25</th><td>615</td><td>59782.2</td><td>2</td><td>-280.04</td><td>2.81923</td><td>1</td></tr><tr><th>26</th><td>615</td><td>59782.2</td><td>1</td><td>-449.096</td><td>4.02831</td><td>1</td></tr><tr><th>27</th><td>615</td><td>59782.2</td><td>3</td><td>-316.705</td><td>3.49115</td><td>1</td></tr><tr><th>28</th><td>615</td><td>59782.2</td><td>4</td><td>-332.885</td><td>4.02162</td><td>1</td></tr><tr><th>29</th><td>615</td><td>59782.2</td><td>5</td><td>-365.076</td><td>8.51481</td><td>1</td></tr><tr><th>30</th><td>615</td><td>59797.3</td><td>2</td><td>391.399</td><td>3.09806</td><td>1</td></tr><tr><th>&vellip;</th><td>&vellip;</td><td>&vellip;</td><td>&vellip;</td><td>&vellip;</td><td>&vellip;</td><td>&vellip;</td></tr></tbody></table>"
      ],
      "text/latex": [
       "\\begin{tabular}{r|cccccc}\n",
       "\t& object\\_id & mjd & passband & flux & flux\\_err & detected\\\\\n",
       "\t\\hline\n",
       "\t& Int64 & Float64 & Int64 & Float64 & Float64 & Int64\\\\\n",
       "\t\\hline\n",
       "\t1 & 615 & 59750.4 & 2 & -544.81 & 3.62295 & 1 \\\\\n",
       "\t2 & 615 & 59750.4 & 1 & -816.434 & 5.55337 & 1 \\\\\n",
       "\t3 & 615 & 59750.4 & 3 & -471.386 & 3.80121 & 1 \\\\\n",
       "\t4 & 615 & 59750.4 & 4 & -388.985 & 11.395 & 1 \\\\\n",
       "\t5 & 615 & 59752.4 & 2 & -681.859 & 4.0412 & 1 \\\\\n",
       "\t6 & 615 & 59752.4 & 1 & -1061.46 & 6.47299 & 1 \\\\\n",
       "\t7 & 615 & 59752.4 & 3 & -524.955 & 3.55275 & 1 \\\\\n",
       "\t8 & 615 & 59752.4 & 4 & -393.48 & 3.59935 & 1 \\\\\n",
       "\t9 & 615 & 59752.4 & 5 & -355.887 & 10.4219 & 1 \\\\\n",
       "\t10 & 615 & 59767.3 & 2 & -548.014 & 3.46229 & 1 \\\\\n",
       "\t11 & 615 & 59767.3 & 1 & -815.189 & 5.29302 & 1 \\\\\n",
       "\t12 & 615 & 59767.3 & 3 & -475.516 & 3.34064 & 1 \\\\\n",
       "\t13 & 615 & 59767.3 & 4 & -405.664 & 3.49611 & 1 \\\\\n",
       "\t14 & 615 & 59767.3 & 5 & -421.199 & 6.37752 & 1 \\\\\n",
       "\t15 & 615 & 59770.2 & 2 & -554.903 & 3.92784 & 1 \\\\\n",
       "\t16 & 615 & 59770.2 & 1 & -820.043 & 5.87533 & 1 \\\\\n",
       "\t17 & 615 & 59770.2 & 3 & -477.005 & 3.73626 & 1 \\\\\n",
       "\t18 & 615 & 59770.2 & 4 & -400.27 & 3.83495 & 1 \\\\\n",
       "\t19 & 615 & 59770.3 & 5 & -415.287 & 7.43598 & 1 \\\\\n",
       "\t20 & 615 & 59779.3 & 2 & -630.524 & 4.33329 & 1 \\\\\n",
       "\t21 & 615 & 59779.3 & 1 & -921.003 & 6.3068 & 1 \\\\\n",
       "\t22 & 615 & 59779.3 & 3 & -518.534 & 3.91522 & 1 \\\\\n",
       "\t23 & 615 & 59779.3 & 4 & -422.185 & 4.08921 & 1 \\\\\n",
       "\t24 & 615 & 59779.4 & 5 & -422.815 & 8.1241 & 1 \\\\\n",
       "\t25 & 615 & 59782.2 & 2 & -280.04 & 2.81923 & 1 \\\\\n",
       "\t26 & 615 & 59782.2 & 1 & -449.096 & 4.02831 & 1 \\\\\n",
       "\t27 & 615 & 59782.2 & 3 & -316.705 & 3.49115 & 1 \\\\\n",
       "\t28 & 615 & 59782.2 & 4 & -332.885 & 4.02162 & 1 \\\\\n",
       "\t29 & 615 & 59782.2 & 5 & -365.076 & 8.51481 & 1 \\\\\n",
       "\t30 & 615 & 59797.3 & 2 & 391.399 & 3.09806 & 1 \\\\\n",
       "\t$\\dots$ & $\\dots$ & $\\dots$ & $\\dots$ & $\\dots$ & $\\dots$ & $\\dots$ \\\\\n",
       "\\end{tabular}\n"
      ],
      "text/plain": [
       "352×6 SubDataFrame\n",
       "│ Row │ object_id │ mjd     │ passband │ flux     │ flux_err │ detected │\n",
       "│     │ \u001b[90mInt64\u001b[39m     │ \u001b[90mFloat64\u001b[39m │ \u001b[90mInt64\u001b[39m    │ \u001b[90mFloat64\u001b[39m  │ \u001b[90mFloat64\u001b[39m  │ \u001b[90mInt64\u001b[39m    │\n",
       "├─────┼───────────┼─────────┼──────────┼──────────┼──────────┼──────────┤\n",
       "│ 1   │ 615       │ 59750.4 │ 2        │ -544.81  │ 3.62295  │ 1        │\n",
       "│ 2   │ 615       │ 59750.4 │ 1        │ -816.434 │ 5.55337  │ 1        │\n",
       "│ 3   │ 615       │ 59750.4 │ 3        │ -471.386 │ 3.80121  │ 1        │\n",
       "│ 4   │ 615       │ 59750.4 │ 4        │ -388.985 │ 11.395   │ 1        │\n",
       "│ 5   │ 615       │ 59752.4 │ 2        │ -681.859 │ 4.0412   │ 1        │\n",
       "│ 6   │ 615       │ 59752.4 │ 1        │ -1061.46 │ 6.47299  │ 1        │\n",
       "│ 7   │ 615       │ 59752.4 │ 3        │ -524.955 │ 3.55275  │ 1        │\n",
       "│ 8   │ 615       │ 59752.4 │ 4        │ -393.48  │ 3.59935  │ 1        │\n",
       "│ 9   │ 615       │ 59752.4 │ 5        │ -355.887 │ 10.4219  │ 1        │\n",
       "│ 10  │ 615       │ 59767.3 │ 2        │ -548.014 │ 3.46229  │ 1        │\n",
       "⋮\n",
       "│ 342 │ 615       │ 60617.0 │ 0        │ 121.412  │ 3.56978  │ 1        │\n",
       "│ 343 │ 615       │ 60621.2 │ 2        │ 56.5598  │ 2.25983  │ 1        │\n",
       "│ 344 │ 615       │ 60621.2 │ 1        │ -607.041 │ 4.45246  │ 1        │\n",
       "│ 345 │ 615       │ 60621.2 │ 3        │ 208.77   │ 2.95978  │ 1        │\n",
       "│ 346 │ 615       │ 60621.2 │ 4        │ 297.625  │ 3.71859  │ 1        │\n",
       "│ 347 │ 615       │ 60621.2 │ 5        │ 332.919  │ 8.15717  │ 1        │\n",
       "│ 348 │ 615       │ 60624.2 │ 2        │ 552.15   │ 3.91799  │ 1        │\n",
       "│ 349 │ 615       │ 60624.2 │ 1        │ 607.048  │ 5.14099  │ 1        │\n",
       "│ 350 │ 615       │ 60624.2 │ 3        │ 296.947  │ 3.475    │ 1        │\n",
       "│ 351 │ 615       │ 60624.2 │ 4        │ 235.49   │ 3.92654  │ 1        │\n",
       "│ 352 │ 615       │ 60624.2 │ 5        │ 157.08   │ 8.45311  │ 1        │"
      ]
     },
     "execution_count": 19,
     "metadata": {},
     "output_type": "execute_result"
    }
   ],
   "source": [
    "groups[1]"
   ]
  },
  {
   "cell_type": "code",
   "execution_count": 44,
   "metadata": {},
   "outputs": [
    {
     "data": {
      "text/plain": [
       "0-element Array{Any,1}"
      ]
     },
     "execution_count": 44,
     "metadata": {},
     "output_type": "execute_result"
    }
   ],
   "source": [
    "subdfs = []"
   ]
  },
  {
   "cell_type": "code",
   "execution_count": 45,
   "metadata": {},
   "outputs": [
    {
     "data": {
      "text/plain": [
       "7848"
      ]
     },
     "execution_count": 45,
     "metadata": {},
     "output_type": "execute_result"
    }
   ],
   "source": [
    "length(groups)"
   ]
  },
  {
   "cell_type": "code",
   "execution_count": 46,
   "metadata": {},
   "outputs": [
    {
     "data": {
      "text/plain": [
       "false"
      ]
     },
     "execution_count": 46,
     "metadata": {},
     "output_type": "execute_result"
    }
   ],
   "source": [
    "a = 50\n",
    "a == 10"
   ]
  },
  {
   "cell_type": "code",
   "execution_count": 49,
   "metadata": {},
   "outputs": [
    {
     "ename": "MethodError",
     "evalue": "MethodError: no method matching iterate(::SubDataFrame{DataFrame,DataFrames.Index,Array{Int64,1}})\nClosest candidates are:\n  iterate(!Matched::Core.SimpleVector) at essentials.jl:568\n  iterate(!Matched::Core.SimpleVector, !Matched::Any) at essentials.jl:568\n  iterate(!Matched::ExponentialBackOff) at error.jl:199\n  ...",
     "output_type": "error",
     "traceback": [
      "MethodError: no method matching iterate(::SubDataFrame{DataFrame,DataFrames.Index,Array{Int64,1}})\nClosest candidates are:\n  iterate(!Matched::Core.SimpleVector) at essentials.jl:568\n  iterate(!Matched::Core.SimpleVector, !Matched::Any) at essentials.jl:568\n  iterate(!Matched::ExponentialBackOff) at error.jl:199\n  ...",
      "",
      "Stacktrace:",
      " [1] indexed_iterate(::SubDataFrame{DataFrame,DataFrames.Index,Array{Int64,1}}, ::Int64) at .\\tuple.jl:66",
      " [2] top-level scope at .\\In[49]:1"
     ]
    }
   ],
   "source": [
    "for (i, subdf) in groups\n",
    "    println(subdf)\n",
    "    i == 5 ? break : nothing\n",
    "end"
   ]
  },
  {
   "cell_type": "code",
   "execution_count": 54,
   "metadata": {},
   "outputs": [
    {
     "name": "stdout",
     "output_type": "stream",
     "text": [
      "352×6 SubDataFrame\n",
      "│ Row │ object_id │ mjd     │ passband │ flux     │ flux_err │ detected │\n",
      "│     │ \u001b[90mInt64\u001b[39m     │ \u001b[90mFloat64\u001b[39m │ \u001b[90mInt64\u001b[39m    │ \u001b[90mFloat64\u001b[39m  │ \u001b[90mFloat64\u001b[39m  │ \u001b[90mInt64\u001b[39m    │\n",
      "├─────┼───────────┼─────────┼──────────┼──────────┼──────────┼──────────┤\n",
      "│ 1   │ 615       │ 59750.4 │ 2        │ -544.81  │ 3.62295  │ 1        │\n",
      "│ 2   │ 615       │ 59750.4 │ 1        │ -816.434 │ 5.55337  │ 1        │\n",
      "│ 3   │ 615       │ 59750.4 │ 3        │ -471.386 │ 3.80121  │ 1        │\n",
      "│ 4   │ 615       │ 59750.4 │ 4        │ -388.985 │ 11.395   │ 1        │\n",
      "│ 5   │ 615       │ 59752.4 │ 2        │ -681.859 │ 4.0412   │ 1        │\n",
      "│ 6   │ 615       │ 59752.4 │ 1        │ -1061.46 │ 6.47299  │ 1        │\n",
      "│ 7   │ 615       │ 59752.4 │ 3        │ -524.955 │ 3.55275  │ 1        │\n",
      "│ 8   │ 615       │ 59752.4 │ 4        │ -393.48  │ 3.59935  │ 1        │\n",
      "│ 9   │ 615       │ 59752.4 │ 5        │ -355.887 │ 10.4219  │ 1        │\n",
      "│ 10  │ 615       │ 59767.3 │ 2        │ -548.014 │ 3.46229  │ 1        │\n",
      "│ 11  │ 615       │ 59767.3 │ 1        │ -815.189 │ 5.29302  │ 1        │\n",
      "│ 12  │ 615       │ 59767.3 │ 3        │ -475.516 │ 3.34064  │ 1        │\n",
      "│ 13  │ 615       │ 59767.3 │ 4        │ -405.664 │ 3.49611  │ 1        │\n",
      "│ 14  │ 615       │ 59767.3 │ 5        │ -421.199 │ 6.37752  │ 1        │\n",
      "│ 15  │ 615       │ 59770.2 │ 2        │ -554.903 │ 3.92784  │ 1        │\n",
      "│ 16  │ 615       │ 59770.2 │ 1        │ -820.043 │ 5.87533  │ 1        │\n",
      "│ 17  │ 615       │ 59770.2 │ 3        │ -477.005 │ 3.73626  │ 1        │\n",
      "│ 18  │ 615       │ 59770.2 │ 4        │ -400.27  │ 3.83495  │ 1        │\n",
      "│ 19  │ 615       │ 59770.3 │ 5        │ -415.287 │ 7.43598  │ 1        │\n",
      "│ 20  │ 615       │ 59779.3 │ 2        │ -630.524 │ 4.33329  │ 1        │\n",
      "│ 21  │ 615       │ 59779.3 │ 1        │ -921.003 │ 6.3068   │ 1        │\n",
      "│ 22  │ 615       │ 59779.3 │ 3        │ -518.534 │ 3.91522  │ 1        │\n",
      "│ 23  │ 615       │ 59779.3 │ 4        │ -422.185 │ 4.08921  │ 1        │\n",
      "│ 24  │ 615       │ 59779.4 │ 5        │ -422.815 │ 8.1241   │ 1        │\n",
      "│ 25  │ 615       │ 59782.2 │ 2        │ -280.04  │ 2.81923  │ 1        │\n",
      "│ 26  │ 615       │ 59782.2 │ 1        │ -449.096 │ 4.02831  │ 1        │\n",
      "│ 27  │ 615       │ 59782.2 │ 3        │ -316.705 │ 3.49115  │ 1        │\n",
      "│ 28  │ 615       │ 59782.2 │ 4        │ -332.885 │ 4.02162  │ 1        │\n",
      "│ 29  │ 615       │ 59782.2 │ 5        │ -365.076 │ 8.51481  │ 1        │\n",
      "│ 30  │ 615       │ 59797.3 │ 2        │ 391.399  │ 3.09806  │ 1        │\n",
      "│ 31  │ 615       │ 59797.3 │ 1        │ 35.5118  │ 3.16365  │ 1        │\n",
      "│ 32  │ 615       │ 59797.3 │ 3        │ 330.624  │ 3.38878  │ 1        │\n",
      "│ 33  │ 615       │ 59797.3 │ 4        │ 360.398  │ 3.98061  │ 1        │\n",
      "│ 34  │ 615       │ 59797.3 │ 5        │ 369.44   │ 8.20749  │ 1        │\n",
      "│ 35  │ 615       │ 59800.3 │ 2        │ 168.74   │ 3.1285   │ 1        │\n",
      "│ 36  │ 615       │ 59800.3 │ 1        │ 129.542  │ 4.35878  │ 1        │\n",
      "│ 37  │ 615       │ 59800.3 │ 3        │ 30.1207  │ 3.39661  │ 1        │\n",
      "│ 38  │ 615       │ 59800.3 │ 4        │ -60.9423 │ 3.70424  │ 1        │\n",
      "│ 39  │ 615       │ 59800.4 │ 5        │ -128.92  │ 7.4957   │ 1        │\n",
      "│ 40  │ 615       │ 59807.2 │ 2        │ -256.661 │ 2.78135  │ 1        │\n",
      "│ 41  │ 615       │ 59807.2 │ 1        │ -420.796 │ 4.03773  │ 1        │\n",
      "│ 42  │ 615       │ 59807.2 │ 3        │ -298.937 │ 3.04139  │ 1        │\n",
      "│ 43  │ 615       │ 59807.2 │ 4        │ -311.978 │ 3.31801  │ 1        │\n",
      "│ 44  │ 615       │ 59807.2 │ 5        │ -344.536 │ 6.3672   │ 1        │\n",
      "│ 45  │ 615       │ 59810.1 │ 2        │ -342.82  │ 2.80832  │ 1        │\n",
      "│ 46  │ 615       │ 59810.1 │ 1        │ -527.02  │ 4.20417  │ 1        │\n",
      "│ 47  │ 615       │ 59810.1 │ 3        │ -363.283 │ 3.23754  │ 1        │\n",
      "│ 48  │ 615       │ 59810.1 │ 4        │ -348.629 │ 3.77486  │ 1        │\n",
      "│ 49  │ 615       │ 59810.1 │ 5        │ -391.271 │ 7.65707  │ 1        │\n",
      "│ 50  │ 615       │ 59813.1 │ 2        │ -678.046 │ 4.03282  │ 1        │\n",
      "│ 51  │ 615       │ 59813.1 │ 1        │ -1100.44 │ 6.70911  │ 1        │\n",
      "│ 52  │ 615       │ 59813.1 │ 3        │ -506.687 │ 3.5474   │ 1        │\n",
      "│ 53  │ 615       │ 59813.1 │ 4        │ -304.05  │ 3.5905   │ 1        │\n",
      "│ 54  │ 615       │ 59813.1 │ 5        │ -187.286 │ 6.98402  │ 1        │\n",
      "│ 55  │ 615       │ 59819.2 │ 0        │ 6.87878  │ 3.63315  │ 0        │\n",
      "│ 56  │ 615       │ 59820.1 │ 0        │ 39.3649  │ 3.77562  │ 1        │\n",
      "│ 57  │ 615       │ 59821.1 │ 0        │ -10.4224 │ 4.17268  │ 0        │\n",
      "│ 58  │ 615       │ 59822.1 │ 0        │ -65.4851 │ 4.36288  │ 1        │\n",
      "│ 59  │ 615       │ 59823.2 │ 0        │ -113.349 │ 4.06905  │ 1        │\n",
      "│ 60  │ 615       │ 59835.1 │ 2        │ -54.9495 │ 2.57578  │ 1        │\n",
      "│ 61  │ 615       │ 59835.1 │ 1        │ -178.149 │ 3.80986  │ 1        │\n",
      "│ 62  │ 615       │ 59835.1 │ 3        │ -140.818 │ 3.14908  │ 1        │\n",
      "│ 63  │ 615       │ 59835.1 │ 4        │ -200.294 │ 3.57801  │ 1        │\n",
      "│ 64  │ 615       │ 59835.1 │ 5        │ -263.578 │ 6.95426  │ 1        │\n",
      "│ 65  │ 615       │ 59839.0 │ 2        │ -639.036 │ 3.92853  │ 1        │\n",
      "│ 66  │ 615       │ 59839.0 │ 1        │ -953.884 │ 6.03541  │ 1        │\n",
      "│ 67  │ 615       │ 59839.0 │ 3        │ -518.293 │ 3.59587  │ 1        │\n",
      "│ 68  │ 615       │ 59839.1 │ 4        │ -418.724 │ 3.53648  │ 1        │\n",
      "│ 69  │ 615       │ 59839.1 │ 5        │ -418.8   │ 6.58059  │ 1        │\n",
      "│ 70  │ 615       │ 59842.0 │ 2        │ -502.215 │ 3.34844  │ 1        │\n",
      "│ 71  │ 615       │ 59842.0 │ 1        │ -1003.97 │ 6.25678  │ 1        │\n",
      "│ 72  │ 615       │ 59842.0 │ 3        │ -233.168 │ 2.87284  │ 1        │\n",
      "│ 73  │ 615       │ 59842.0 │ 4        │ 111.508  │ 3.22911  │ 1        │\n",
      "│ 74  │ 615       │ 59842.1 │ 5        │ 206.425  │ 6.61582  │ 1        │\n",
      "│ 75  │ 615       │ 59851.1 │ 0        │ -68.5025 │ 3.33855  │ 1        │\n",
      "│ 76  │ 615       │ 59854.1 │ 2        │ 459.453  │ 3.33671  │ 1        │\n",
      "│ 77  │ 615       │ 59854.1 │ 1        │ 217.894  │ 3.33274  │ 1        │\n",
      "│ 78  │ 615       │ 59854.1 │ 3        │ 361.023  │ 3.23785  │ 1        │\n",
      "│ 79  │ 615       │ 59854.1 │ 4        │ 374.446  │ 3.62207  │ 1        │\n",
      "│ 80  │ 615       │ 59854.1 │ 5        │ 370.346  │ 6.78977  │ 1        │\n",
      "│ 81  │ 615       │ 59857.0 │ 2        │ 599.812  │ 4.12103  │ 1        │\n",
      "│ 82  │ 615       │ 59857.1 │ 1        │ 646.523  │ 5.29162  │ 1        │\n",
      "│ 83  │ 615       │ 59857.1 │ 3        │ 354.961  │ 3.40779  │ 1        │\n",
      "│ 84  │ 615       │ 59857.1 │ 4        │ 293.88   │ 3.58186  │ 1        │\n",
      "│ 85  │ 615       │ 59857.1 │ 5        │ 232.536  │ 6.76185  │ 1        │\n",
      "│ 86  │ 615       │ 59864.0 │ 2        │ -637.105 │ 3.81843  │ 1        │\n",
      "│ 87  │ 615       │ 59864.0 │ 1        │ -942.168 │ 5.916    │ 1        │\n",
      "│ 88  │ 615       │ 59864.0 │ 3        │ -524.587 │ 3.53893  │ 1        │\n",
      "│ 89  │ 615       │ 59864.0 │ 4        │ -414.448 │ 3.63525  │ 1        │\n",
      "│ 90  │ 615       │ 59864.1 │ 5        │ -408.089 │ 7.11973  │ 1        │\n",
      "│ 91  │ 615       │ 59867.0 │ 2        │ -332.763 │ 2.87295  │ 1        │\n",
      "│ 92  │ 615       │ 59867.0 │ 1        │ -910.678 │ 5.85203  │ 1        │\n",
      "│ 93  │ 615       │ 59867.0 │ 3        │ -62.065  │ 3.07341  │ 1        │\n",
      "│ 94  │ 615       │ 59867.0 │ 4        │ 202.288  │ 4.02675  │ 1        │\n",
      "│ 95  │ 615       │ 59867.1 │ 5        │ 270.585  │ 10.3218  │ 1        │\n",
      "│ 96  │ 615       │ 59870.0 │ 2        │ 604.345  │ 3.90175  │ 1        │\n",
      "│ 97  │ 615       │ 59870.0 │ 1        │ 659.487  │ 4.99105  │ 1        │\n",
      "│ 98  │ 615       │ 59870.0 │ 3        │ 373.987  │ 3.29467  │ 1        │\n",
      "│ 99  │ 615       │ 59870.0 │ 4        │ 322.604  │ 3.71656  │ 1        │\n",
      "│ 100 │ 615       │ 59870.1 │ 5        │ 263.481  │ 7.19313  │ 1        │\n",
      "│ 101 │ 615       │ 59873.0 │ 2        │ 4.65603  │ 2.13051  │ 0        │\n",
      "│ 102 │ 615       │ 59873.0 │ 1        │ -98.797  │ 3.03453  │ 1        │\n",
      "│ 103 │ 615       │ 59873.0 │ 3        │ -93.7329 │ 2.49972  │ 1        │\n",
      "│ 104 │ 615       │ 59873.0 │ 4        │ -165.793 │ 2.90606  │ 1        │\n",
      "│ 105 │ 615       │ 59873.1 │ 5        │ -233.502 │ 6.08788  │ 1        │\n",
      "│ 106 │ 615       │ 59874.1 │ 0        │ -97.3532 │ 3.13399  │ 1        │\n",
      "│ 107 │ 615       │ 59875.0 │ 0        │ -97.5239 │ 2.96307  │ 1        │\n",
      "│ 108 │ 615       │ 59876.0 │ 0        │ -108.673 │ 3.44971  │ 1        │\n",
      "│ 109 │ 615       │ 59877.0 │ 0        │ -116.913 │ 3.09784  │ 1        │\n",
      "│ 110 │ 615       │ 59878.0 │ 0        │ -102.769 │ 3.13577  │ 1        │\n",
      "│ 111 │ 615       │ 59879.0 │ 0        │ -52.4071 │ 3.26156  │ 1        │\n",
      "│ 112 │ 615       │ 59880.0 │ 0        │ 55.5677  │ 3.35527  │ 1        │\n",
      "│ 113 │ 615       │ 59884.1 │ 2        │ -274.711 │ 2.57209  │ 1        │\n",
      "│ 114 │ 615       │ 59884.1 │ 1        │ -437.425 │ 3.8316   │ 1        │\n",
      "│ 115 │ 615       │ 59884.1 │ 3        │ -310.011 │ 2.95713  │ 1        │\n",
      "│ 116 │ 615       │ 59884.1 │ 4        │ -317.631 │ 3.21317  │ 1        │\n"
     ]
    },
    {
     "name": "stdout",
     "output_type": "stream",
     "text": [
      "│ 117 │ 615       │ 59884.1 │ 5        │ -351.278 │ 6.23132  │ 1        │\n",
      "│ 118 │ 615       │ 59887.0 │ 2        │ -491.146 │ 3.59267  │ 1        │\n",
      "│ 119 │ 615       │ 59887.0 │ 1        │ -743.267 │ 5.62471  │ 1        │\n",
      "│ 120 │ 615       │ 59887.0 │ 3        │ -449.715 │ 3.72848  │ 1        │\n",
      "│ 121 │ 615       │ 59887.1 │ 4        │ -393.972 │ 3.53282  │ 1        │\n",
      "│ 122 │ 615       │ 59887.1 │ 5        │ -406.549 │ 6.64859  │ 1        │\n",
      "│ 123 │ 615       │ 60118.4 │ 0        │ -107.081 │ 3.10251  │ 1        │\n",
      "│ 124 │ 615       │ 60124.3 │ 2        │ -588.398 │ 4.17605  │ 1        │\n",
      "│ 125 │ 615       │ 60124.3 │ 1        │ -878.043 │ 6.21025  │ 1        │\n",
      "│ 126 │ 615       │ 60124.3 │ 3        │ -495.472 │ 4.01144  │ 1        │\n",
      "│ 127 │ 615       │ 60124.3 │ 4        │ -417.145 │ 4.09436  │ 1        │\n",
      "│ 128 │ 615       │ 60124.3 │ 5        │ -413.673 │ 7.79396  │ 1        │\n",
      "│ 129 │ 615       │ 60140.2 │ 0        │ -88.9812 │ 3.46843  │ 1        │\n",
      "│ 130 │ 615       │ 60141.2 │ 0        │ -50.1793 │ 4.73419  │ 1        │\n",
      "│ 131 │ 615       │ 60142.2 │ 0        │ 50.0086  │ 4.63665  │ 1        │\n",
      "│ 132 │ 615       │ 60143.2 │ 0        │ 110.754  │ 4.38084  │ 1        │\n",
      "│ 133 │ 615       │ 60144.2 │ 0        │ 120.867  │ 4.10333  │ 1        │\n",
      "│ 134 │ 615       │ 60145.2 │ 0        │ 111.464  │ 4.36703  │ 1        │\n",
      "│ 135 │ 615       │ 60153.2 │ 2        │ -322.42  │ 2.83307  │ 1        │\n",
      "│ 136 │ 615       │ 60153.2 │ 1        │ -917.875 │ 5.95139  │ 1        │\n",
      "│ 137 │ 615       │ 60153.2 │ 3        │ -52.0565 │ 2.69825  │ 1        │\n",
      "│ 138 │ 615       │ 60153.3 │ 4        │ 205.181  │ 3.16968  │ 1        │\n",
      "│ 139 │ 615       │ 60153.3 │ 5        │ 269.709  │ 6.68227  │ 1        │\n",
      "│ 140 │ 615       │ 60162.1 │ 2        │ 31.4997  │ 2.75377  │ 1        │\n",
      "│ 141 │ 615       │ 60162.2 │ 1        │ -62.1206 │ 3.81864  │ 1        │\n",
      "│ 142 │ 615       │ 60162.2 │ 3        │ -72.9588 │ 3.51557  │ 1        │\n",
      "│ 143 │ 615       │ 60162.2 │ 4        │ -151.127 │ 3.83829  │ 1        │\n",
      "│ 144 │ 615       │ 60162.2 │ 5        │ -216.914 │ 8.83249  │ 1        │\n",
      "│ 145 │ 615       │ 60165.1 │ 2        │ -568.409 │ 3.55317  │ 1        │\n",
      "│ 146 │ 615       │ 60165.1 │ 1        │ -836.233 │ 5.40576  │ 1        │\n",
      "│ 147 │ 615       │ 60165.2 │ 3        │ -483.071 │ 3.38761  │ 1        │\n",
      "│ 148 │ 615       │ 60165.2 │ 4        │ -409.471 │ 3.54199  │ 1        │\n",
      "│ 149 │ 615       │ 60165.2 │ 5        │ -412.82  │ 6.90744  │ 1        │\n",
      "│ 150 │ 615       │ 60168.1 │ 2        │ -628.321 │ 3.80477  │ 1        │\n",
      "│ 151 │ 615       │ 60168.1 │ 1        │ -1077.35 │ 6.59108  │ 1        │\n",
      "│ 152 │ 615       │ 60168.1 │ 3        │ -421.859 │ 3.33666  │ 1        │\n",
      "│ 153 │ 615       │ 60168.2 │ 4        │ -93.7291 │ 3.2112   │ 1        │\n",
      "│ 154 │ 615       │ 60168.2 │ 5        │ 31.2079  │ 6.61501  │ 0        │\n",
      "│ 155 │ 615       │ 60176.1 │ 0        │ -49.9053 │ 3.87443  │ 1        │\n",
      "│ 156 │ 615       │ 60177.1 │ 0        │ -87.1606 │ 4.07838  │ 1        │\n",
      "│ 157 │ 615       │ 60181.3 │ 2        │ -180.73  │ 2.49858  │ 1        │\n",
      "│ 158 │ 615       │ 60181.3 │ 1        │ -339.875 │ 3.62666  │ 1        │\n",
      "│ 159 │ 615       │ 60181.3 │ 3        │ -249.206 │ 3.28082  │ 1        │\n",
      "│ 160 │ 615       │ 60181.3 │ 4        │ -275.762 │ 4.69496  │ 1        │\n",
      "│ 161 │ 615       │ 60181.4 │ 5        │ -330.891 │ 9.58005  │ 1        │\n",
      "│ 162 │ 615       │ 60184.4 │ 2        │ -555.854 │ 3.97917  │ 1        │\n",
      "│ 163 │ 615       │ 60184.4 │ 1        │ -1028.44 │ 6.71958  │ 1        │\n",
      "│ 164 │ 615       │ 60184.4 │ 3        │ -306.2   │ 3.55763  │ 1        │\n",
      "│ 165 │ 615       │ 60184.4 │ 4        │ 49.5558  │ 3.62735  │ 1        │\n",
      "│ 166 │ 615       │ 60184.4 │ 5        │ 154.877  │ 7.98805  │ 1        │\n",
      "│ 167 │ 615       │ 60194.2 │ 2        │ 469.655  │ 3.38686  │ 1        │\n",
      "│ 168 │ 615       │ 60194.2 │ 1        │ 276.758  │ 3.59416  │ 1        │\n",
      "│ 169 │ 615       │ 60194.2 │ 3        │ 374.67   │ 3.43714  │ 1        │\n",
      "│ 170 │ 615       │ 60194.2 │ 4        │ 374.949  │ 4.26709  │ 1        │\n",
      "│ 171 │ 615       │ 60194.2 │ 5        │ 363.13   │ 12.8455  │ 1        │\n",
      "│ 172 │ 615       │ 60197.1 │ 2        │ 607.787  │ 3.96035  │ 1        │\n",
      "│ 173 │ 615       │ 60197.1 │ 1        │ 650.984  │ 4.97081  │ 1        │\n",
      "│ 174 │ 615       │ 60197.1 │ 3        │ 365.409  │ 3.1973   │ 1        │\n",
      "│ 175 │ 615       │ 60197.1 │ 4        │ 305.331  │ 3.36004  │ 1        │\n",
      "│ 176 │ 615       │ 60197.2 │ 5        │ 256.966  │ 6.44307  │ 1        │\n",
      "│ 177 │ 615       │ 60198.1 │ 0        │ 100.129  │ 4.26631  │ 1        │\n",
      "│ 178 │ 615       │ 60199.1 │ 0        │ 86.7767  │ 4.67974  │ 1        │\n",
      "│ 179 │ 615       │ 60200.1 │ 0        │ 82.0782  │ 4.34243  │ 1        │\n",
      "│ 180 │ 615       │ 60201.1 │ 0        │ 41.9478  │ 4.46706  │ 1        │\n",
      "│ 181 │ 615       │ 60202.1 │ 0        │ 9.06168  │ 3.8314   │ 0        │\n",
      "│ 182 │ 615       │ 60206.1 │ 0        │ -83.0729 │ 3.13024  │ 1        │\n",
      "│ 183 │ 615       │ 60207.1 │ 0        │ 108.483  │ 4.45861  │ 1        │\n",
      "│ 184 │ 615       │ 60208.0 │ 2        │ -672.681 │ 4.13806  │ 1        │\n",
      "│ 185 │ 615       │ 60208.0 │ 1        │ -1094.03 │ 6.71734  │ 1        │\n",
      "│ 186 │ 615       │ 60208.0 │ 3        │ -503.87  │ 3.66542  │ 1        │\n",
      "│ 187 │ 615       │ 60208.0 │ 4        │ -284.747 │ 3.66629  │ 1        │\n",
      "│ 188 │ 615       │ 60208.1 │ 5        │ -176.41  │ 8.30829  │ 1        │\n",
      "│ 189 │ 615       │ 60211.0 │ 2        │ 208.281  │ 3.22978  │ 1        │\n",
      "│ 190 │ 615       │ 60211.0 │ 1        │ -370.19  │ 4.52591  │ 1        │\n",
      "│ 191 │ 615       │ 60211.0 │ 3        │ 269.201  │ 3.68824  │ 1        │\n",
      "│ 192 │ 615       │ 60211.0 │ 4        │ 326.272  │ 4.42466  │ 1        │\n",
      "│ 193 │ 615       │ 60211.1 │ 5        │ 358.32   │ 10.1524  │ 1        │\n",
      "│ 194 │ 615       │ 60221.0 │ 2        │ -648.682 │ 3.90618  │ 1        │\n",
      "│ 195 │ 615       │ 60221.0 │ 1        │ -1086.78 │ 6.6201   │ 1        │\n",
      "│ 196 │ 615       │ 60221.0 │ 3        │ -455.588 │ 3.29553  │ 1        │\n",
      "│ 197 │ 615       │ 60221.0 │ 4    "
     ]
    },
    {
     "ename": "InterruptException",
     "evalue": "InterruptException:",
     "output_type": "error",
     "traceback": [
      "InterruptException:",
      "",
      "Stacktrace:",
      " [1] try_yieldto(::typeof(Base.ensure_rescheduled), ::Base.RefValue{Task}) at .\\event.jl:196",
      " [2] wait() at .\\event.jl:255",
      " [3] uv_write(::Base.PipeEndpoint, ::Ptr{UInt8}, ::UInt64) at .\\stream.jl:853",
      " [4] unsafe_write(::Base.PipeEndpoint, ::Ptr{UInt8}, ::UInt64) at .\\stream.jl:901",
      " [5] unsafe_write at .\\io.jl:509 [inlined]",
      " [6] unsafe_write(::Base.PipeEndpoint, ::Base.RefValue{UInt8}, ::Int64) at .\\io.jl:507",
      " [7] write at .\\io.jl:510 [inlined]",
      " [8] write(::Base.PipeEndpoint, ::UInt8) at .\\stream.jl:943",
      " [9] write at .\\io.jl:224 [inlined]",
      " [10] write at .\\io.jl:563 [inlined]",
      " [11] showrowindices(::IJulia.IJuliaStdio{Base.PipeEndpoint}, ::SubDataFrame{DataFrame,DataFrames.Index,Array{Int64,1}}, ::UnitRange{Int64}, ::Array{Int64,1}, ::Int64, ::Int64, ::Nothing) at C:\\Users\\Anand\\.julia\\packages\\DataFrames\\VrZOl\\src\\abstractdataframe\\show.jl:316",
      " [12] showrows(::IJulia.IJuliaStdio{Base.PipeEndpoint}, ::SubDataFrame{DataFrame,DataFrames.Index,Array{Int64,1}}, ::UnitRange{Int64}, ::UnitRange{Int64}, ::Array{Int64,1}, ::Bool, ::Bool, ::Symbol, ::Bool, ::Nothing) at C:\\Users\\Anand\\.julia\\packages\\DataFrames\\VrZOl\\src\\abstractdataframe\\show.jl:481",
      " [13] #_show#302(::Bool, ::Bool, ::Bool, ::Symbol, ::Bool, ::Nothing, ::Function, ::IJulia.IJuliaStdio{Base.PipeEndpoint}, ::SubDataFrame{DataFrame,DataFrames.Index,Array{Int64,1}}) at C:\\Users\\Anand\\.julia\\packages\\DataFrames\\VrZOl\\src\\abstractdataframe\\show.jl:539",
      " [14] #_show at .\\none:0 [inlined]",
      " [15] #show#303(::Bool, ::Bool, ::Bool, ::Symbol, ::Bool, ::Function, ::IJulia.IJuliaStdio{Base.PipeEndpoint}, ::SubDataFrame{DataFrame,DataFrames.Index,Array{Int64,1}}) at C:\\Users\\Anand\\.julia\\packages\\DataFrames\\VrZOl\\src\\abstractdataframe\\show.jl:609",
      " [16] show(::IJulia.IJuliaStdio{Base.PipeEndpoint}, ::SubDataFrame{DataFrame,DataFrames.Index,Array{Int64,1}}) at C:\\Users\\Anand\\.julia\\packages\\DataFrames\\VrZOl\\src\\abstractdataframe\\show.jl:609",
      " [17] print(::IJulia.IJuliaStdio{Base.PipeEndpoint}, ::SubDataFrame{DataFrame,DataFrames.Index,Array{Int64,1}}) at .\\strings\\io.jl:31",
      " [18] print(::IJulia.IJuliaStdio{Base.PipeEndpoint}, ::SubDataFrame{DataFrame,DataFrames.Index,Array{Int64,1}}, ::Char) at .\\strings\\io.jl:42",
      " [19] println(::IJulia.IJuliaStdio{Base.PipeEndpoint}, ::SubDataFrame{DataFrame,DataFrames.Index,Array{Int64,1}}, ::Vararg{Any,N} where N) at .\\strings\\io.jl:69",
      " [20] println(::SubDataFrame{DataFrame,DataFrames.Index,Array{Int64,1}}) at .\\coreio.jl:4",
      " [21] top-level scope at .\\In[54]:2"
     ]
    }
   ],
   "source": [
    "for subdf in groupby(df, :object_id)\n",
    "    println(subdf)\n",
    "end"
   ]
  },
  {
   "cell_type": "code",
   "execution_count": 63,
   "metadata": {},
   "outputs": [],
   "source": [
    "curve = groups[1];"
   ]
  },
  {
   "cell_type": "code",
   "execution_count": 67,
   "metadata": {},
   "outputs": [
    {
     "name": "stderr",
     "output_type": "stream",
     "text": [
      "┌ Info: Precompiling DifferentialEquations [0c46a032-eb83-5123-abaf-570d42b7fbaa]\n",
      "└ @ Base loading.jl:1186\n"
     ]
    },
    {
     "ename": "InterruptException",
     "evalue": "InterruptException:",
     "output_type": "error",
     "traceback": [
      "InterruptException:",
      "",
      "Stacktrace:",
      " [1] try_yieldto(::typeof(Base.ensure_rescheduled), ::Base.RefValue{Task}) at .\\event.jl:196",
      " [2] wait() at .\\event.jl:255",
      " [3] uv_write(::Base.PipeEndpoint, ::Ptr{UInt8}, ::UInt64) at .\\stream.jl:853",
      " [4] unsafe_write(::Base.PipeEndpoint, ::Ptr{UInt8}, ::UInt64) at .\\stream.jl:901",
      " [5] write(::Base.PipeEndpoint, ::String) at .\\gcutils.jl:87",
      " [6] create_expr_cache(::String, ::String, ::Array{Pair{Base.PkgId,UInt64},1}, ::Base.UUID) at .\\loading.jl:1113",
      " [7] compilecache(::Base.PkgId, ::String) at .\\loading.jl:1188",
      " [8] _require(::Base.PkgId) at .\\loading.jl:960",
      " [9] require(::Base.PkgId) at .\\loading.jl:858",
      " [10] require(::Module, ::Symbol) at .\\loading.jl:853",
      " [11] top-level scope at In[67]:1"
     ]
    }
   ],
   "source": [
    "using Flux, DifferentialEquations, DiffEqFlux"
   ]
  },
  {
   "cell_type": "code",
   "execution_count": 68,
   "metadata": {},
   "outputs": [
    {
     "ename": "LoadError",
     "evalue": "syntax: missing last argument in \"2:\" range expression ",
     "output_type": "error",
     "traceback": [
      "syntax: missing last argument in \"2:\" range expression ",
      ""
     ]
    },
    {
     "name": "stderr",
     "output_type": "stream",
     "text": [
      "ERROR: ┌ Warning: Module StochasticDiffEq with build ID 62227661090900 is missing from the cache.\n",
      "│ This may mean StochasticDiffEq [789caeaf-c7a9-5a7d-9973-96adeb23e2a0] does not support precompilation but is imported by a module that does.\n",
      "└ @ Base loading.jl:947\n"
     ]
    }
   ],
   "source": [
    "p = curve[0, 2:]"
   ]
  },
  {
   "cell_type": "code",
   "execution_count": null,
   "metadata": {},
   "outputs": [],
   "source": []
  }
 ],
 "metadata": {
  "kernelspec": {
   "display_name": "Julia 1.1.1",
   "language": "julia",
   "name": "julia-1.1"
  },
  "language_info": {
   "file_extension": ".jl",
   "mimetype": "application/julia",
   "name": "julia",
   "version": "1.1.1"
  }
 },
 "nbformat": 4,
 "nbformat_minor": 2
}
